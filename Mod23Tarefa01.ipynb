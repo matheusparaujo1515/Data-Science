{
 "cells": [
  {
   "cell_type": "markdown",
   "id": "2af9e93a-2388-4ef7-ada6-e5604737b13e",
   "metadata": {},
   "source": [
    "# Mod 23 Tarefa 01"
   ]
  },
  {
   "cell_type": "markdown",
   "id": "d3193629-15ea-44ba-a9a3-f0a817473ea1",
   "metadata": {},
   "source": [
    "![comando](Comanda-questão-1.png)"
   ]
  },
  {
   "cell_type": "markdown",
   "id": "a0113bba-23d2-43af-81d5-c90c9f7e5fb3",
   "metadata": {},
   "source": [
    "### 1. Monte um passo a passo para o Bagging.\n",
    "Acabei fazendo um diagrama montar o passo a passo. (Não ficou muito vistoso kkk) Segue abaixo:\n",
    "![daiagram](Diagrama-bagging.png)"
   ]
  },
  {
   "cell_type": "markdown",
   "id": "9be42b72-d173-41ee-8c7f-2fb9beacb0f0",
   "metadata": {},
   "source": [
    "### 2. Explique com suas palavras o Bagging.\n",
    "Bagging (Bootstrap Aggregating) é uma técnica de aprendizado de máquina usada para melhorar a estabilidade e a precisão dos algoritmos. A ideia principal é criar múltiplos subconjuntos do conjunto de dados original através do processo de amostragem com reposição (bootstrap). Em seguida, modelos de aprendizado de máquina (como regressão linear, regressão logística, classificação, etc.) são treinados em cada subconjunto. Por fim, as previsões de todos os modelos são agregadas, seja pela votação das respostas ou pela média dos resultados no processo de aggregating."
   ]
  },
  {
   "cell_type": "code",
   "execution_count": null,
   "id": "8d39a5bd-aa5c-4efa-b9e4-cb3c2de9bc50",
   "metadata": {},
   "outputs": [],
   "source": []
  }
 ],
 "metadata": {
  "kernelspec": {
   "display_name": "Python 3 (ipykernel)",
   "language": "python",
   "name": "python3"
  },
  "language_info": {
   "codemirror_mode": {
    "name": "ipython",
    "version": 3
   },
   "file_extension": ".py",
   "mimetype": "text/x-python",
   "name": "python",
   "nbconvert_exporter": "python",
   "pygments_lexer": "ipython3",
   "version": "3.11.7"
  }
 },
 "nbformat": 4,
 "nbformat_minor": 5
}
