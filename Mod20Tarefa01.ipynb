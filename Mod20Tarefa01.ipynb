{
 "cells": [
  {
   "cell_type": "markdown",
   "id": "fd323a22-7b36-4169-be33-6e151bd0a9ee",
   "metadata": {},
   "source": [
    "# Mod 20 - Tarefa\n",
    "Replique o techo de texto (Markdown) da imagem abaixo no Jupyter Notebook."
   ]
  },
  {
   "cell_type": "markdown",
   "id": "f873b742-5cd5-4a21-ad2c-bc32ce34c2f2",
   "metadata": {},
   "source": [
    "![descrição opcional](file:///C:/Users/Matheus-Educar/OneDrive/20%20-%20MODULO%20-%20MARKDOWN/Mod20/Mod20Tarefa01/Imagens/Tarefa2.png)\r\n"
   ]
  },
  {
   "cell_type": "code",
   "execution_count": null,
   "id": "588cd3b1-f782-474f-9691-6e8ef6040c4b",
   "metadata": {},
   "outputs": [],
   "source": []
  },
  {
   "cell_type": "code",
   "execution_count": null,
   "id": "45f0a11c-3036-4855-a46e-300a74212d75",
   "metadata": {},
   "outputs": [],
   "source": []
  },
  {
   "cell_type": "code",
   "execution_count": null,
   "id": "9576e3ef-fedd-4fc2-b279-fc48ad9a1b42",
   "metadata": {},
   "outputs": [],
   "source": []
  }
 ],
 "metadata": {
  "kernelspec": {
   "display_name": "Python 3 (ipykernel)",
   "language": "python",
   "name": "python3"
  },
  "language_info": {
   "codemirror_mode": {
    "name": "ipython",
    "version": 3
   },
   "file_extension": ".py",
   "mimetype": "text/x-python",
   "name": "python",
   "nbconvert_exporter": "python",
   "pygments_lexer": "ipython3",
   "version": "3.11.7"
  }
 },
 "nbformat": 4,
 "nbformat_minor": 5
}
